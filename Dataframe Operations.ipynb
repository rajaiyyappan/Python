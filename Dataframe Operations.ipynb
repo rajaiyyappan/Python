{
 "cells": [
  {
   "cell_type": "code",
   "execution_count": 65,
   "metadata": {},
   "outputs": [],
   "source": [
    "import numpy as np\n",
    "import pandas as pd\n",
    "import matplotlib.pyplot as plt\n",
    "import seaborn as sns\n",
    "from scipy.stats import shapiro\n",
    "import statistics as stat"
   ]
  },
  {
   "cell_type": "code",
   "execution_count": 4,
   "metadata": {},
   "outputs": [],
   "source": [
    "data={'name':['raja','ranjith','karthi','pradeep','virat','rakshi','rakesh','ragasudha','mohananya','keerthana'],\n",
    "       'age':[25,29,26,35,32,25,27,29,31,44],\n",
    "       'gender':['m','m','m','m','m','f','m','f','f','f'],\n",
    "       'designation':['Soft.Engineer','Tech. Lead','Soft.Analyst','CFO',\n",
    "                       'Soft.Analyst','Tech. Lead','Sr. Soft. Engineer',\n",
    "                       'Sr. Soft. Engineer','Soft. Engineer','Tech. Architect'],\n",
    "        'salary':[20000,50000,150000,100000,15000,50000,25000,25000,20000,70000]}"
   ]
  },
  {
   "cell_type": "code",
   "execution_count": 5,
   "metadata": {},
   "outputs": [
    {
     "data": {
      "text/plain": [
       "{'name': ['raja',\n",
       "  'ranjith',\n",
       "  'karthi',\n",
       "  'pradeep',\n",
       "  'virat',\n",
       "  'rakshi',\n",
       "  'rakesh',\n",
       "  'ragasudha',\n",
       "  'mohananya',\n",
       "  'keerthana'],\n",
       " 'age': [25, 29, 26, 35, 32, 25, 27, 29, 31, 44],\n",
       " 'gender': ['m', 'm', 'm', 'm', 'm', 'f', 'm', 'f', 'f', 'f'],\n",
       " 'designation': ['Soft.Engineer',\n",
       "  'Tech. Lead',\n",
       "  'Soft.Analyst',\n",
       "  'CFO',\n",
       "  'Soft.Analyst',\n",
       "  'Tech. Lead',\n",
       "  'Sr. Soft. Engineer',\n",
       "  'Sr. Soft. Engineer',\n",
       "  'Soft. Engineer',\n",
       "  'Tech. Architect'],\n",
       " 'salary': [20000,\n",
       "  50000,\n",
       "  150000,\n",
       "  100000,\n",
       "  15000,\n",
       "  50000,\n",
       "  25000,\n",
       "  25000,\n",
       "  20000,\n",
       "  70000]}"
      ]
     },
     "execution_count": 5,
     "metadata": {},
     "output_type": "execute_result"
    }
   ],
   "source": [
    "data"
   ]
  },
  {
   "cell_type": "code",
   "execution_count": 6,
   "metadata": {},
   "outputs": [
    {
     "data": {
      "text/plain": [
       "dict_keys(['name', 'age', 'gender', 'designation', 'salary'])"
      ]
     },
     "execution_count": 6,
     "metadata": {},
     "output_type": "execute_result"
    }
   ],
   "source": [
    "data.keys()"
   ]
  },
  {
   "cell_type": "code",
   "execution_count": 7,
   "metadata": {},
   "outputs": [
    {
     "data": {
      "text/plain": [
       "dict_values([['raja', 'ranjith', 'karthi', 'pradeep', 'virat', 'rakshi', 'rakesh', 'ragasudha', 'mohananya', 'keerthana'], [25, 29, 26, 35, 32, 25, 27, 29, 31, 44], ['m', 'm', 'm', 'm', 'm', 'f', 'm', 'f', 'f', 'f'], ['Soft.Engineer', 'Tech. Lead', 'Soft.Analyst', 'CFO', 'Soft.Analyst', 'Tech. Lead', 'Sr. Soft. Engineer', 'Sr. Soft. Engineer', 'Soft. Engineer', 'Tech. Architect'], [20000, 50000, 150000, 100000, 15000, 50000, 25000, 25000, 20000, 70000]])"
      ]
     },
     "execution_count": 7,
     "metadata": {},
     "output_type": "execute_result"
    }
   ],
   "source": [
    "data.values()"
   ]
  },
  {
   "cell_type": "code",
   "execution_count": 8,
   "metadata": {},
   "outputs": [
    {
     "data": {
      "text/plain": [
       "['raja',\n",
       " 'ranjith',\n",
       " 'karthi',\n",
       " 'pradeep',\n",
       " 'virat',\n",
       " 'rakshi',\n",
       " 'rakesh',\n",
       " 'ragasudha',\n",
       " 'mohananya',\n",
       " 'keerthana']"
      ]
     },
     "execution_count": 8,
     "metadata": {},
     "output_type": "execute_result"
    }
   ],
   "source": [
    "data['name']"
   ]
  },
  {
   "cell_type": "code",
   "execution_count": 9,
   "metadata": {},
   "outputs": [
    {
     "data": {
      "text/plain": [
       "'raja'"
      ]
     },
     "execution_count": 9,
     "metadata": {},
     "output_type": "execute_result"
    }
   ],
   "source": [
    "data['name'][0]"
   ]
  },
  {
   "cell_type": "code",
   "execution_count": 10,
   "metadata": {},
   "outputs": [
    {
     "data": {
      "text/plain": [
       "False"
      ]
     },
     "execution_count": 10,
     "metadata": {},
     "output_type": "execute_result"
    }
   ],
   "source": [
    "'kumar' in data"
   ]
  },
  {
   "cell_type": "code",
   "execution_count": 11,
   "metadata": {},
   "outputs": [
    {
     "data": {
      "text/plain": [
       "True"
      ]
     },
     "execution_count": 11,
     "metadata": {},
     "output_type": "execute_result"
    }
   ],
   "source": [
    "'age' in data"
   ]
  },
  {
   "cell_type": "code",
   "execution_count": 15,
   "metadata": {},
   "outputs": [],
   "source": [
    "datafrm=pd.DataFrame(data,columns=['name','age','gender','designation','salary'])"
   ]
  },
  {
   "cell_type": "code",
   "execution_count": 27,
   "metadata": {},
   "outputs": [
    {
     "data": {
      "text/html": [
       "<div>\n",
       "<style scoped>\n",
       "    .dataframe tbody tr th:only-of-type {\n",
       "        vertical-align: middle;\n",
       "    }\n",
       "\n",
       "    .dataframe tbody tr th {\n",
       "        vertical-align: top;\n",
       "    }\n",
       "\n",
       "    .dataframe thead th {\n",
       "        text-align: right;\n",
       "    }\n",
       "</style>\n",
       "<table border=\"1\" class=\"dataframe\">\n",
       "  <thead>\n",
       "    <tr style=\"text-align: right;\">\n",
       "      <th></th>\n",
       "      <th>name</th>\n",
       "      <th>age</th>\n",
       "      <th>gender</th>\n",
       "      <th>designation</th>\n",
       "      <th>salary</th>\n",
       "    </tr>\n",
       "  </thead>\n",
       "  <tbody>\n",
       "    <tr>\n",
       "      <th>0</th>\n",
       "      <td>raja</td>\n",
       "      <td>25</td>\n",
       "      <td>m</td>\n",
       "      <td>Soft.Engineer</td>\n",
       "      <td>20000</td>\n",
       "    </tr>\n",
       "    <tr>\n",
       "      <th>1</th>\n",
       "      <td>ranjith</td>\n",
       "      <td>29</td>\n",
       "      <td>m</td>\n",
       "      <td>Tech. Lead</td>\n",
       "      <td>50000</td>\n",
       "    </tr>\n",
       "    <tr>\n",
       "      <th>2</th>\n",
       "      <td>karthi</td>\n",
       "      <td>26</td>\n",
       "      <td>m</td>\n",
       "      <td>Soft.Analyst</td>\n",
       "      <td>150000</td>\n",
       "    </tr>\n",
       "    <tr>\n",
       "      <th>3</th>\n",
       "      <td>pradeep</td>\n",
       "      <td>35</td>\n",
       "      <td>m</td>\n",
       "      <td>CFO</td>\n",
       "      <td>100000</td>\n",
       "    </tr>\n",
       "    <tr>\n",
       "      <th>4</th>\n",
       "      <td>virat</td>\n",
       "      <td>32</td>\n",
       "      <td>m</td>\n",
       "      <td>Soft.Analyst</td>\n",
       "      <td>15000</td>\n",
       "    </tr>\n",
       "    <tr>\n",
       "      <th>5</th>\n",
       "      <td>rakshi</td>\n",
       "      <td>25</td>\n",
       "      <td>f</td>\n",
       "      <td>Tech. Lead</td>\n",
       "      <td>50000</td>\n",
       "    </tr>\n",
       "    <tr>\n",
       "      <th>6</th>\n",
       "      <td>rakesh</td>\n",
       "      <td>27</td>\n",
       "      <td>m</td>\n",
       "      <td>Sr. Soft. Engineer</td>\n",
       "      <td>25000</td>\n",
       "    </tr>\n",
       "    <tr>\n",
       "      <th>7</th>\n",
       "      <td>ragasudha</td>\n",
       "      <td>29</td>\n",
       "      <td>f</td>\n",
       "      <td>Sr. Soft. Engineer</td>\n",
       "      <td>25000</td>\n",
       "    </tr>\n",
       "    <tr>\n",
       "      <th>8</th>\n",
       "      <td>mohananya</td>\n",
       "      <td>31</td>\n",
       "      <td>f</td>\n",
       "      <td>Soft. Engineer</td>\n",
       "      <td>20000</td>\n",
       "    </tr>\n",
       "    <tr>\n",
       "      <th>9</th>\n",
       "      <td>keerthana</td>\n",
       "      <td>44</td>\n",
       "      <td>f</td>\n",
       "      <td>Tech. Architect</td>\n",
       "      <td>70000</td>\n",
       "    </tr>\n",
       "  </tbody>\n",
       "</table>\n",
       "</div>"
      ],
      "text/plain": [
       "        name  age gender         designation  salary\n",
       "0       raja   25      m       Soft.Engineer   20000\n",
       "1    ranjith   29      m          Tech. Lead   50000\n",
       "2     karthi   26      m        Soft.Analyst  150000\n",
       "3    pradeep   35      m                 CFO  100000\n",
       "4      virat   32      m        Soft.Analyst   15000\n",
       "5     rakshi   25      f          Tech. Lead   50000\n",
       "6     rakesh   27      m  Sr. Soft. Engineer   25000\n",
       "7  ragasudha   29      f  Sr. Soft. Engineer   25000\n",
       "8  mohananya   31      f      Soft. Engineer   20000\n",
       "9  keerthana   44      f     Tech. Architect   70000"
      ]
     },
     "execution_count": 27,
     "metadata": {},
     "output_type": "execute_result"
    }
   ],
   "source": [
    "datafrm"
   ]
  },
  {
   "cell_type": "code",
   "execution_count": 28,
   "metadata": {},
   "outputs": [],
   "source": [
    "p_Table = pd.pivot_table(datafrm,index=['gender','designation'])"
   ]
  },
  {
   "cell_type": "code",
   "execution_count": 29,
   "metadata": {},
   "outputs": [
    {
     "data": {
      "text/html": [
       "<div>\n",
       "<style scoped>\n",
       "    .dataframe tbody tr th:only-of-type {\n",
       "        vertical-align: middle;\n",
       "    }\n",
       "\n",
       "    .dataframe tbody tr th {\n",
       "        vertical-align: top;\n",
       "    }\n",
       "\n",
       "    .dataframe thead th {\n",
       "        text-align: right;\n",
       "    }\n",
       "</style>\n",
       "<table border=\"1\" class=\"dataframe\">\n",
       "  <thead>\n",
       "    <tr style=\"text-align: right;\">\n",
       "      <th></th>\n",
       "      <th></th>\n",
       "      <th>age</th>\n",
       "      <th>salary</th>\n",
       "    </tr>\n",
       "    <tr>\n",
       "      <th>gender</th>\n",
       "      <th>designation</th>\n",
       "      <th></th>\n",
       "      <th></th>\n",
       "    </tr>\n",
       "  </thead>\n",
       "  <tbody>\n",
       "    <tr>\n",
       "      <th rowspan=\"4\" valign=\"top\">f</th>\n",
       "      <th>Soft. Engineer</th>\n",
       "      <td>31</td>\n",
       "      <td>20000</td>\n",
       "    </tr>\n",
       "    <tr>\n",
       "      <th>Sr. Soft. Engineer</th>\n",
       "      <td>29</td>\n",
       "      <td>25000</td>\n",
       "    </tr>\n",
       "    <tr>\n",
       "      <th>Tech. Architect</th>\n",
       "      <td>44</td>\n",
       "      <td>70000</td>\n",
       "    </tr>\n",
       "    <tr>\n",
       "      <th>Tech. Lead</th>\n",
       "      <td>25</td>\n",
       "      <td>50000</td>\n",
       "    </tr>\n",
       "    <tr>\n",
       "      <th rowspan=\"5\" valign=\"top\">m</th>\n",
       "      <th>CFO</th>\n",
       "      <td>35</td>\n",
       "      <td>100000</td>\n",
       "    </tr>\n",
       "    <tr>\n",
       "      <th>Soft.Analyst</th>\n",
       "      <td>29</td>\n",
       "      <td>82500</td>\n",
       "    </tr>\n",
       "    <tr>\n",
       "      <th>Soft.Engineer</th>\n",
       "      <td>25</td>\n",
       "      <td>20000</td>\n",
       "    </tr>\n",
       "    <tr>\n",
       "      <th>Sr. Soft. Engineer</th>\n",
       "      <td>27</td>\n",
       "      <td>25000</td>\n",
       "    </tr>\n",
       "    <tr>\n",
       "      <th>Tech. Lead</th>\n",
       "      <td>29</td>\n",
       "      <td>50000</td>\n",
       "    </tr>\n",
       "  </tbody>\n",
       "</table>\n",
       "</div>"
      ],
      "text/plain": [
       "                           age  salary\n",
       "gender designation                    \n",
       "f      Soft. Engineer       31   20000\n",
       "       Sr. Soft. Engineer   29   25000\n",
       "       Tech. Architect      44   70000\n",
       "       Tech. Lead           25   50000\n",
       "m      CFO                  35  100000\n",
       "       Soft.Analyst         29   82500\n",
       "       Soft.Engineer        25   20000\n",
       "       Sr. Soft. Engineer   27   25000\n",
       "       Tech. Lead           29   50000"
      ]
     },
     "execution_count": 29,
     "metadata": {},
     "output_type": "execute_result"
    }
   ],
   "source": [
    "p_Table"
   ]
  },
  {
   "cell_type": "code",
   "execution_count": 34,
   "metadata": {},
   "outputs": [
    {
     "data": {
      "text/html": [
       "<div>\n",
       "<style scoped>\n",
       "    .dataframe tbody tr th:only-of-type {\n",
       "        vertical-align: middle;\n",
       "    }\n",
       "\n",
       "    .dataframe tbody tr th {\n",
       "        vertical-align: top;\n",
       "    }\n",
       "\n",
       "    .dataframe thead th {\n",
       "        text-align: right;\n",
       "    }\n",
       "</style>\n",
       "<table border=\"1\" class=\"dataframe\">\n",
       "  <thead>\n",
       "    <tr style=\"text-align: right;\">\n",
       "      <th>col_0</th>\n",
       "      <th>count</th>\n",
       "    </tr>\n",
       "    <tr>\n",
       "      <th>gender</th>\n",
       "      <th></th>\n",
       "    </tr>\n",
       "  </thead>\n",
       "  <tbody>\n",
       "    <tr>\n",
       "      <th>f</th>\n",
       "      <td>4</td>\n",
       "    </tr>\n",
       "    <tr>\n",
       "      <th>m</th>\n",
       "      <td>6</td>\n",
       "    </tr>\n",
       "  </tbody>\n",
       "</table>\n",
       "</div>"
      ],
      "text/plain": [
       "col_0   count\n",
       "gender       \n",
       "f           4\n",
       "m           6"
      ]
     },
     "execution_count": 34,
     "metadata": {},
     "output_type": "execute_result"
    }
   ],
   "source": [
    "pd.crosstab(index=datafrm['gender'],columns='count')"
   ]
  },
  {
   "cell_type": "code",
   "execution_count": 38,
   "metadata": {},
   "outputs": [
    {
     "data": {
      "text/plain": [
       "37500.0"
      ]
     },
     "execution_count": 38,
     "metadata": {},
     "output_type": "execute_result"
    }
   ],
   "source": [
    "stat.median(datafrm.salary)"
   ]
  },
  {
   "cell_type": "code",
   "execution_count": 39,
   "metadata": {},
   "outputs": [
    {
     "data": {
      "text/plain": [
       "37500.0"
      ]
     },
     "execution_count": 39,
     "metadata": {},
     "output_type": "execute_result"
    }
   ],
   "source": [
    "datafrm['salary'].median()"
   ]
  },
  {
   "cell_type": "code",
   "execution_count": 40,
   "metadata": {},
   "outputs": [
    {
     "data": {
      "text/plain": [
       "52500.0"
      ]
     },
     "execution_count": 40,
     "metadata": {},
     "output_type": "execute_result"
    }
   ],
   "source": [
    "datafrm['salary'].mean()"
   ]
  },
  {
   "cell_type": "code",
   "execution_count": 57,
   "metadata": {},
   "outputs": [
    {
     "data": {
      "text/plain": [
       "<matplotlib.axes._subplots.AxesSubplot at 0x1da86ab9c88>"
      ]
     },
     "execution_count": 57,
     "metadata": {},
     "output_type": "execute_result"
    },
    {
     "data": {
      "image/png": "[encoded data removed]",
      "text/plain": [
       "<Figure size 360x216 with 1 Axes>"
      ]
     },
     "metadata": {},
     "output_type": "display_data"
    }
   ],
   "source": [
    "#Data Visualization\n",
    "#Count Plot\n",
    "fig=plt.figure(figsize=(5,3))\n",
    "sns.countplot(x='gender',data=datafrm)"
   ]
  },
  {
   "cell_type": "code",
   "execution_count": 60,
   "metadata": {},
   "outputs": [
    {
     "data": {
      "text/plain": [
       "<matplotlib.axes._subplots.AxesSubplot at 0x1da86b1aef0>"
      ]
     },
     "execution_count": 60,
     "metadata": {},
     "output_type": "execute_result"
    },
    {
     "data": {
      "image/png": "[encoded data removed]",
      "text/plain": [
       "<Figure size 720x216 with 1 Axes>"
      ]
     },
     "metadata": {},
     "output_type": "display_data"
    }
   ],
   "source": [
    "fig=plt.figure(figsize=(10,3))\n",
    "sns.countplot(x='designation',data=datafrm)"
   ]
  },
  {
   "cell_type": "code",
   "execution_count": 66,
   "metadata": {},
   "outputs": [
    {
     "data": {
      "text/plain": [
       "<matplotlib.axes._subplots.AxesSubplot at 0x1da86cedd30>"
      ]
     },
     "execution_count": 66,
     "metadata": {},
     "output_type": "execute_result"
    },
    {
     "data": {
      "image/png": "[encoded data removed]",
      "text/plain": [
       "<Figure size 720x216 with 1 Axes>"
      ]
     },
     "metadata": {},
     "output_type": "display_data"
    }
   ],
   "source": [
    "fig=plt.figure(figsize=(10,3))\n",
    "sns.barplot(x='name',y='salary',data=datafrm)"
   ]
  },
  {
   "cell_type": "code",
   "execution_count": 68,
   "metadata": {},
   "outputs": [
    {
     "data": {
      "text/plain": [
       "name           0\n",
       "age            0\n",
       "gender         0\n",
       "designation    0\n",
       "salary         0\n",
       "dtype: int64"
      ]
     },
     "execution_count": 68,
     "metadata": {},
     "output_type": "execute_result"
    }
   ],
   "source": [
    "#Checking for missing values\n",
    "datafrm.isna().sum()  #No Missing Values"
   ]
  },
  {
   "cell_type": "code",
   "execution_count": 73,
   "metadata": {},
   "outputs": [
    {
     "data": {
      "text/plain": [
       "<matplotlib.axes._subplots.AxesSubplot at 0x1da87ef8e48>"
      ]
     },
     "execution_count": 73,
     "metadata": {},
     "output_type": "execute_result"
    },
    {
     "data": {
      "image/png": "[encoded data removed]",
      "text/plain": [
       "<Figure size 432x288 with 1 Axes>"
      ]
     },
     "metadata": {},
     "output_type": "display_data"
    }
   ],
   "source": [
    "#Checking for outliers\n",
    "sns.boxplot(x=datafrm.age)\n"
   ]
  },
  {
   "cell_type": "code",
   "execution_count": 74,
   "metadata": {},
   "outputs": [
    {
     "data": {
      "text/plain": [
       "<matplotlib.axes._subplots.AxesSubplot at 0x1da87f55940>"
      ]
     },
     "execution_count": 74,
     "metadata": {},
     "output_type": "execute_result"
    },
    {
     "data": {
      "image/png": "[encoded data removed]",
      "text/plain": [
       "<Figure size 432x288 with 1 Axes>"
      ]
     },
     "metadata": {},
     "output_type": "display_data"
    }
   ],
   "source": [
    "sns.boxplot(x=datafrm.salary)"
   ]
  },
  {
   "cell_type": "code",
   "execution_count": 75,
   "metadata": {},
   "outputs": [],
   "source": [
    "data_salary_Q1 = datafrm['salary'].quantile(0.25)"
   ]
  },
  {
   "cell_type": "code",
   "execution_count": 76,
   "metadata": {},
   "outputs": [
    {
     "data": {
      "text/plain": [
       "21250.0"
      ]
     },
     "execution_count": 76,
     "metadata": {},
     "output_type": "execute_result"
    }
   ],
   "source": [
    "data_salary_Q1"
   ]
  },
  {
   "cell_type": "code",
   "execution_count": 77,
   "metadata": {},
   "outputs": [],
   "source": [
    "data_salary_Q3 = datafrm['salary'].quantile(0.75)"
   ]
  },
  {
   "cell_type": "code",
   "execution_count": 78,
   "metadata": {},
   "outputs": [
    {
     "data": {
      "text/plain": [
       "65000.0"
      ]
     },
     "execution_count": 78,
     "metadata": {},
     "output_type": "execute_result"
    }
   ],
   "source": [
    "data_salary_Q3 "
   ]
  },
  {
   "cell_type": "code",
   "execution_count": 79,
   "metadata": {},
   "outputs": [],
   "source": [
    "data_salary_IQR = data_salary_Q3 - data_salary_Q1"
   ]
  },
  {
   "cell_type": "code",
   "execution_count": 80,
   "metadata": {},
   "outputs": [
    {
     "data": {
      "text/plain": [
       "43750.0"
      ]
     },
     "execution_count": 80,
     "metadata": {},
     "output_type": "execute_result"
    }
   ],
   "source": [
    "data_salary_IQR "
   ]
  },
  {
   "cell_type": "code",
   "execution_count": 81,
   "metadata": {},
   "outputs": [
    {
     "name": "stdout",
     "output_type": "stream",
     "text": [
      "21250.0 65000.0 43750.0\n"
     ]
    }
   ],
   "source": [
    "print(data_salary_Q1,data_salary_Q3,data_salary_IQR)\n"
   ]
  },
  {
   "cell_type": "code",
   "execution_count": 83,
   "metadata": {},
   "outputs": [],
   "source": [
    "datafrm = datafrm[~((datafrm.salary<\n",
    "                     (data_salary_Q1-1.5*data_salary_IQR))|(datafrm.salary>(data_salary_Q3+1.5*data_salary_IQR)))]"
   ]
  },
  {
   "cell_type": "code",
   "execution_count": 86,
   "metadata": {},
   "outputs": [
    {
     "data": {
      "text/html": [
       "<div>\n",
       "<style scoped>\n",
       "    .dataframe tbody tr th:only-of-type {\n",
       "        vertical-align: middle;\n",
       "    }\n",
       "\n",
       "    .dataframe tbody tr th {\n",
       "        vertical-align: top;\n",
       "    }\n",
       "\n",
       "    .dataframe thead th {\n",
       "        text-align: right;\n",
       "    }\n",
       "</style>\n",
       "<table border=\"1\" class=\"dataframe\">\n",
       "  <thead>\n",
       "    <tr style=\"text-align: right;\">\n",
       "      <th></th>\n",
       "      <th>name</th>\n",
       "      <th>age</th>\n",
       "      <th>gender</th>\n",
       "      <th>designation</th>\n",
       "      <th>salary</th>\n",
       "    </tr>\n",
       "  </thead>\n",
       "  <tbody>\n",
       "    <tr>\n",
       "      <th>0</th>\n",
       "      <td>raja</td>\n",
       "      <td>25</td>\n",
       "      <td>m</td>\n",
       "      <td>Soft.Engineer</td>\n",
       "      <td>20000</td>\n",
       "    </tr>\n",
       "    <tr>\n",
       "      <th>1</th>\n",
       "      <td>ranjith</td>\n",
       "      <td>29</td>\n",
       "      <td>m</td>\n",
       "      <td>Tech. Lead</td>\n",
       "      <td>50000</td>\n",
       "    </tr>\n",
       "    <tr>\n",
       "      <th>3</th>\n",
       "      <td>pradeep</td>\n",
       "      <td>35</td>\n",
       "      <td>m</td>\n",
       "      <td>CFO</td>\n",
       "      <td>100000</td>\n",
       "    </tr>\n",
       "    <tr>\n",
       "      <th>4</th>\n",
       "      <td>virat</td>\n",
       "      <td>32</td>\n",
       "      <td>m</td>\n",
       "      <td>Soft.Analyst</td>\n",
       "      <td>15000</td>\n",
       "    </tr>\n",
       "    <tr>\n",
       "      <th>5</th>\n",
       "      <td>rakshi</td>\n",
       "      <td>25</td>\n",
       "      <td>f</td>\n",
       "      <td>Tech. Lead</td>\n",
       "      <td>50000</td>\n",
       "    </tr>\n",
       "    <tr>\n",
       "      <th>6</th>\n",
       "      <td>rakesh</td>\n",
       "      <td>27</td>\n",
       "      <td>m</td>\n",
       "      <td>Sr. Soft. Engineer</td>\n",
       "      <td>25000</td>\n",
       "    </tr>\n",
       "    <tr>\n",
       "      <th>7</th>\n",
       "      <td>ragasudha</td>\n",
       "      <td>29</td>\n",
       "      <td>f</td>\n",
       "      <td>Sr. Soft. Engineer</td>\n",
       "      <td>25000</td>\n",
       "    </tr>\n",
       "    <tr>\n",
       "      <th>8</th>\n",
       "      <td>mohananya</td>\n",
       "      <td>31</td>\n",
       "      <td>f</td>\n",
       "      <td>Soft. Engineer</td>\n",
       "      <td>20000</td>\n",
       "    </tr>\n",
       "    <tr>\n",
       "      <th>9</th>\n",
       "      <td>keerthana</td>\n",
       "      <td>44</td>\n",
       "      <td>f</td>\n",
       "      <td>Tech. Architect</td>\n",
       "      <td>70000</td>\n",
       "    </tr>\n",
       "  </tbody>\n",
       "</table>\n",
       "</div>"
      ],
      "text/plain": [
       "        name  age gender         designation  salary\n",
       "0       raja   25      m       Soft.Engineer   20000\n",
       "1    ranjith   29      m          Tech. Lead   50000\n",
       "3    pradeep   35      m                 CFO  100000\n",
       "4      virat   32      m        Soft.Analyst   15000\n",
       "5     rakshi   25      f          Tech. Lead   50000\n",
       "6     rakesh   27      m  Sr. Soft. Engineer   25000\n",
       "7  ragasudha   29      f  Sr. Soft. Engineer   25000\n",
       "8  mohananya   31      f      Soft. Engineer   20000\n",
       "9  keerthana   44      f     Tech. Architect   70000"
      ]
     },
     "execution_count": 86,
     "metadata": {},
     "output_type": "execute_result"
    }
   ],
   "source": [
    "datafrm"
   ]
  },
  {
   "cell_type": "code",
   "execution_count": 87,
   "metadata": {},
   "outputs": [
    {
     "data": {
      "text/plain": [
       "<matplotlib.axes._subplots.AxesSubplot at 0x1da8800ea90>"
      ]
     },
     "execution_count": 87,
     "metadata": {},
     "output_type": "execute_result"
    },
    {
     "data": {
      "image/png": "[encoded data removed]",
      "text/plain": [
       "<Figure size 432x288 with 1 Axes>"
      ]
     },
     "metadata": {},
     "output_type": "display_data"
    }
   ],
   "source": [
    "sns.boxplot(x=datafrm['salary'])\n",
    "#We don't want to remove as pradeep is CFO and has correct salary"
   ]
  },
  {
   "cell_type": "code",
   "execution_count": 88,
   "metadata": {},
   "outputs": [],
   "source": [
    "#One hot Encoding\n",
    "datafrm = pd.get_dummies(datafrm)"
   ]
  },
  {
   "cell_type": "code",
   "execution_count": 89,
   "metadata": {},
   "outputs": [
    {
     "data": {
      "text/html": [
       "<div>\n",
       "<style scoped>\n",
       "    .dataframe tbody tr th:only-of-type {\n",
       "        vertical-align: middle;\n",
       "    }\n",
       "\n",
       "    .dataframe tbody tr th {\n",
       "        vertical-align: top;\n",
       "    }\n",
       "\n",
       "    .dataframe thead th {\n",
       "        text-align: right;\n",
       "    }\n",
       "</style>\n",
       "<table border=\"1\" class=\"dataframe\">\n",
       "  <thead>\n",
       "    <tr style=\"text-align: right;\">\n",
       "      <th></th>\n",
       "      <th>age</th>\n",
       "      <th>salary</th>\n",
       "      <th>name_keerthana</th>\n",
       "      <th>name_mohananya</th>\n",
       "      <th>name_pradeep</th>\n",
       "      <th>name_ragasudha</th>\n",
       "      <th>name_raja</th>\n",
       "      <th>name_rakesh</th>\n",
       "      <th>name_rakshi</th>\n",
       "      <th>name_ranjith</th>\n",
       "      <th>name_virat</th>\n",
       "      <th>gender_f</th>\n",
       "      <th>gender_m</th>\n",
       "      <th>designation_CFO</th>\n",
       "      <th>designation_Soft. Engineer</th>\n",
       "      <th>designation_Soft.Analyst</th>\n",
       "      <th>designation_Soft.Engineer</th>\n",
       "      <th>designation_Sr. Soft. Engineer</th>\n",
       "      <th>designation_Tech. Architect</th>\n",
       "      <th>designation_Tech. Lead</th>\n",
       "    </tr>\n",
       "  </thead>\n",
       "  <tbody>\n",
       "    <tr>\n",
       "      <th>0</th>\n",
       "      <td>25</td>\n",
       "      <td>20000</td>\n",
       "      <td>0</td>\n",
       "      <td>0</td>\n",
       "      <td>0</td>\n",
       "      <td>0</td>\n",
       "      <td>1</td>\n",
       "      <td>0</td>\n",
       "      <td>0</td>\n",
       "      <td>0</td>\n",
       "      <td>0</td>\n",
       "      <td>0</td>\n",
       "      <td>1</td>\n",
       "      <td>0</td>\n",
       "      <td>0</td>\n",
       "      <td>0</td>\n",
       "      <td>1</td>\n",
       "      <td>0</td>\n",
       "      <td>0</td>\n",
       "      <td>0</td>\n",
       "    </tr>\n",
       "    <tr>\n",
       "      <th>1</th>\n",
       "      <td>29</td>\n",
       "      <td>50000</td>\n",
       "      <td>0</td>\n",
       "      <td>0</td>\n",
       "      <td>0</td>\n",
       "      <td>0</td>\n",
       "      <td>0</td>\n",
       "      <td>0</td>\n",
       "      <td>0</td>\n",
       "      <td>1</td>\n",
       "      <td>0</td>\n",
       "      <td>0</td>\n",
       "      <td>1</td>\n",
       "      <td>0</td>\n",
       "      <td>0</td>\n",
       "      <td>0</td>\n",
       "      <td>0</td>\n",
       "      <td>0</td>\n",
       "      <td>0</td>\n",
       "      <td>1</td>\n",
       "    </tr>\n",
       "    <tr>\n",
       "      <th>3</th>\n",
       "      <td>35</td>\n",
       "      <td>100000</td>\n",
       "      <td>0</td>\n",
       "      <td>0</td>\n",
       "      <td>1</td>\n",
       "      <td>0</td>\n",
       "      <td>0</td>\n",
       "      <td>0</td>\n",
       "      <td>0</td>\n",
       "      <td>0</td>\n",
       "      <td>0</td>\n",
       "      <td>0</td>\n",
       "      <td>1</td>\n",
       "      <td>1</td>\n",
       "      <td>0</td>\n",
       "      <td>0</td>\n",
       "      <td>0</td>\n",
       "      <td>0</td>\n",
       "      <td>0</td>\n",
       "      <td>0</td>\n",
       "    </tr>\n",
       "    <tr>\n",
       "      <th>4</th>\n",
       "      <td>32</td>\n",
       "      <td>15000</td>\n",
       "      <td>0</td>\n",
       "      <td>0</td>\n",
       "      <td>0</td>\n",
       "      <td>0</td>\n",
       "      <td>0</td>\n",
       "      <td>0</td>\n",
       "      <td>0</td>\n",
       "      <td>0</td>\n",
       "      <td>1</td>\n",
       "      <td>0</td>\n",
       "      <td>1</td>\n",
       "      <td>0</td>\n",
       "      <td>0</td>\n",
       "      <td>1</td>\n",
       "      <td>0</td>\n",
       "      <td>0</td>\n",
       "      <td>0</td>\n",
       "      <td>0</td>\n",
       "    </tr>\n",
       "    <tr>\n",
       "      <th>5</th>\n",
       "      <td>25</td>\n",
       "      <td>50000</td>\n",
       "      <td>0</td>\n",
       "      <td>0</td>\n",
       "      <td>0</td>\n",
       "      <td>0</td>\n",
       "      <td>0</td>\n",
       "      <td>0</td>\n",
       "      <td>1</td>\n",
       "      <td>0</td>\n",
       "      <td>0</td>\n",
       "      <td>1</td>\n",
       "      <td>0</td>\n",
       "      <td>0</td>\n",
       "      <td>0</td>\n",
       "      <td>0</td>\n",
       "      <td>0</td>\n",
       "      <td>0</td>\n",
       "      <td>0</td>\n",
       "      <td>1</td>\n",
       "    </tr>\n",
       "    <tr>\n",
       "      <th>6</th>\n",
       "      <td>27</td>\n",
       "      <td>25000</td>\n",
       "      <td>0</td>\n",
       "      <td>0</td>\n",
       "      <td>0</td>\n",
       "      <td>0</td>\n",
       "      <td>0</td>\n",
       "      <td>1</td>\n",
       "      <td>0</td>\n",
       "      <td>0</td>\n",
       "      <td>0</td>\n",
       "      <td>0</td>\n",
       "      <td>1</td>\n",
       "      <td>0</td>\n",
       "      <td>0</td>\n",
       "      <td>0</td>\n",
       "      <td>0</td>\n",
       "      <td>1</td>\n",
       "      <td>0</td>\n",
       "      <td>0</td>\n",
       "    </tr>\n",
       "    <tr>\n",
       "      <th>7</th>\n",
       "      <td>29</td>\n",
       "      <td>25000</td>\n",
       "      <td>0</td>\n",
       "      <td>0</td>\n",
       "      <td>0</td>\n",
       "      <td>1</td>\n",
       "      <td>0</td>\n",
       "      <td>0</td>\n",
       "      <td>0</td>\n",
       "      <td>0</td>\n",
       "      <td>0</td>\n",
       "      <td>1</td>\n",
       "      <td>0</td>\n",
       "      <td>0</td>\n",
       "      <td>0</td>\n",
       "      <td>0</td>\n",
       "      <td>0</td>\n",
       "      <td>1</td>\n",
       "      <td>0</td>\n",
       "      <td>0</td>\n",
       "    </tr>\n",
       "    <tr>\n",
       "      <th>8</th>\n",
       "      <td>31</td>\n",
       "      <td>20000</td>\n",
       "      <td>0</td>\n",
       "      <td>1</td>\n",
       "      <td>0</td>\n",
       "      <td>0</td>\n",
       "      <td>0</td>\n",
       "      <td>0</td>\n",
       "      <td>0</td>\n",
       "      <td>0</td>\n",
       "      <td>0</td>\n",
       "      <td>1</td>\n",
       "      <td>0</td>\n",
       "      <td>0</td>\n",
       "      <td>1</td>\n",
       "      <td>0</td>\n",
       "      <td>0</td>\n",
       "      <td>0</td>\n",
       "      <td>0</td>\n",
       "      <td>0</td>\n",
       "    </tr>\n",
       "    <tr>\n",
       "      <th>9</th>\n",
       "      <td>44</td>\n",
       "      <td>70000</td>\n",
       "      <td>1</td>\n",
       "      <td>0</td>\n",
       "      <td>0</td>\n",
       "      <td>0</td>\n",
       "      <td>0</td>\n",
       "      <td>0</td>\n",
       "      <td>0</td>\n",
       "      <td>0</td>\n",
       "      <td>0</td>\n",
       "      <td>1</td>\n",
       "      <td>0</td>\n",
       "      <td>0</td>\n",
       "      <td>0</td>\n",
       "      <td>0</td>\n",
       "      <td>0</td>\n",
       "      <td>0</td>\n",
       "      <td>1</td>\n",
       "      <td>0</td>\n",
       "    </tr>\n",
       "  </tbody>\n",
       "</table>\n",
       "</div>"
      ],
      "text/plain": [
       "   age  salary  name_keerthana  name_mohananya  name_pradeep  name_ragasudha  \\\n",
       "0   25   20000               0               0             0               0   \n",
       "1   29   50000               0               0             0               0   \n",
       "3   35  100000               0               0             1               0   \n",
       "4   32   15000               0               0             0               0   \n",
       "5   25   50000               0               0             0               0   \n",
       "6   27   25000               0               0             0               0   \n",
       "7   29   25000               0               0             0               1   \n",
       "8   31   20000               0               1             0               0   \n",
       "9   44   70000               1               0             0               0   \n",
       "\n",
       "   name_raja  name_rakesh  name_rakshi  name_ranjith  name_virat  gender_f  \\\n",
       "0          1            0            0             0           0         0   \n",
       "1          0            0            0             1           0         0   \n",
       "3          0            0            0             0           0         0   \n",
       "4          0            0            0             0           1         0   \n",
       "5          0            0            1             0           0         1   \n",
       "6          0            1            0             0           0         0   \n",
       "7          0            0            0             0           0         1   \n",
       "8          0            0            0             0           0         1   \n",
       "9          0            0            0             0           0         1   \n",
       "\n",
       "   gender_m  designation_CFO  designation_Soft. Engineer  \\\n",
       "0         1                0                           0   \n",
       "1         1                0                           0   \n",
       "3         1                1                           0   \n",
       "4         1                0                           0   \n",
       "5         0                0                           0   \n",
       "6         1                0                           0   \n",
       "7         0                0                           0   \n",
       "8         0                0                           1   \n",
       "9         0                0                           0   \n",
       "\n",
       "   designation_Soft.Analyst  designation_Soft.Engineer  \\\n",
       "0                         0                          1   \n",
       "1                         0                          0   \n",
       "3                         0                          0   \n",
       "4                         1                          0   \n",
       "5                         0                          0   \n",
       "6                         0                          0   \n",
       "7                         0                          0   \n",
       "8                         0                          0   \n",
       "9                         0                          0   \n",
       "\n",
       "   designation_Sr. Soft. Engineer  designation_Tech. Architect  \\\n",
       "0                               0                            0   \n",
       "1                               0                            0   \n",
       "3                               0                            0   \n",
       "4                               0                            0   \n",
       "5                               0                            0   \n",
       "6                               1                            0   \n",
       "7                               1                            0   \n",
       "8                               0                            0   \n",
       "9                               0                            1   \n",
       "\n",
       "   designation_Tech. Lead  \n",
       "0                       0  \n",
       "1                       1  \n",
       "3                       0  \n",
       "4                       0  \n",
       "5                       1  \n",
       "6                       0  \n",
       "7                       0  \n",
       "8                       0  \n",
       "9                       0  "
      ]
     },
     "execution_count": 89,
     "metadata": {},
     "output_type": "execute_result"
    }
   ],
   "source": [
    "datafrm"
   ]
  },
  {
   "cell_type": "code",
   "execution_count": 95,
   "metadata": {},
   "outputs": [],
   "source": [
    "#Checking for normality using shapiro-wilk test\n",
    "stat,p = shapiro(datafrm)"
   ]
  },
  {
   "cell_type": "code",
   "execution_count": 96,
   "metadata": {},
   "outputs": [
    {
     "data": {
      "text/plain": [
       "(0.193891704082489, 2.899103115658084e-27)"
      ]
     },
     "execution_count": 96,
     "metadata": {},
     "output_type": "execute_result"
    }
   ],
   "source": [
    "stat,p "
   ]
  },
  {
   "cell_type": "code",
   "execution_count": 98,
   "metadata": {},
   "outputs": [
    {
     "name": "stderr",
     "output_type": "stream",
     "text": [
      "C:\\Users\\Raja\\Anaconda3\\lib\\site-packages\\matplotlib\\axes\\_axes.py:6462: UserWarning: The 'normed' kwarg is deprecated, and has been replaced by the 'density' kwarg.\n",
      "  warnings.warn(\"The 'normed' kwarg is deprecated, and has been \"\n"
     ]
    },
    {
     "data": {
      "text/plain": [
       "<matplotlib.axes._subplots.AxesSubplot at 0x1da87fa4eb8>"
      ]
     },
     "execution_count": 98,
     "metadata": {},
     "output_type": "execute_result"
    },
    {
     "data": {
      "image/png": "[encoded data removed]",
      "text/plain": [
       "<Figure size 432x288 with 1 Axes>"
      ]
     },
     "metadata": {},
     "output_type": "display_data"
    }
   ],
   "source": [
    "sns.distplot(datafrm['age'],kde=False)\n"
   ]
  },
  {
   "cell_type": "code",
   "execution_count": 100,
   "metadata": {},
   "outputs": [
    {
     "name": "stderr",
     "output_type": "stream",
     "text": [
      "C:\\Users\\Raja\\Anaconda3\\lib\\site-packages\\matplotlib\\axes\\_axes.py:6462: UserWarning: The 'normed' kwarg is deprecated, and has been replaced by the 'density' kwarg.\n",
      "  warnings.warn(\"The 'normed' kwarg is deprecated, and has been \"\n"
     ]
    },
    {
     "data": {
      "text/plain": [
       "<matplotlib.axes._subplots.AxesSubplot at 0x1da86980e80>"
      ]
     },
     "execution_count": 100,
     "metadata": {},
     "output_type": "execute_result"
    },
    {
     "data": {
      "image/png": "[encoded data removed]",
      "text/plain": [
       "<Figure size 432x288 with 1 Axes>"
      ]
     },
     "metadata": {},
     "output_type": "display_data"
    }
   ],
   "source": [
    "sns.distplot(datafrm['salary'],kde=False)\n"
   ]
  },
  {
   "cell_type": "code",
   "execution_count": 102,
   "metadata": {},
   "outputs": [
    {
     "name": "stdout",
     "output_type": "stream",
     "text": [
      "1.23\n"
     ]
    }
   ],
   "source": [
    "from scipy.stats import skew\n",
    "print(round(skew(datafrm['age']),2)) "
   ]
  },
  {
   "cell_type": "code",
   "execution_count": 104,
   "metadata": {},
   "outputs": [
    {
     "name": "stdout",
     "output_type": "stream",
     "text": [
      "0.98\n"
     ]
    }
   ],
   "source": [
    "print(round(skew(datafrm['salary']),2))"
   ]
  },
  {
   "cell_type": "code",
   "execution_count": 107,
   "metadata": {},
   "outputs": [],
   "source": [
    "a=datafrm.corr()"
   ]
  },
  {
   "cell_type": "code",
   "execution_count": 113,
   "metadata": {},
   "outputs": [
    {
     "data": {
      "text/html": [
       "<div>\n",
       "<style scoped>\n",
       "    .dataframe tbody tr th:only-of-type {\n",
       "        vertical-align: middle;\n",
       "    }\n",
       "\n",
       "    .dataframe tbody tr th {\n",
       "        vertical-align: top;\n",
       "    }\n",
       "\n",
       "    .dataframe thead th {\n",
       "        text-align: right;\n",
       "    }\n",
       "</style>\n",
       "<table border=\"1\" class=\"dataframe\">\n",
       "  <thead>\n",
       "    <tr style=\"text-align: right;\">\n",
       "      <th></th>\n",
       "      <th>age</th>\n",
       "      <th>salary</th>\n",
       "      <th>name_keerthana</th>\n",
       "      <th>name_mohananya</th>\n",
       "      <th>name_pradeep</th>\n",
       "      <th>name_ragasudha</th>\n",
       "      <th>name_raja</th>\n",
       "      <th>name_rakesh</th>\n",
       "      <th>name_rakshi</th>\n",
       "      <th>name_ranjith</th>\n",
       "      <th>name_virat</th>\n",
       "      <th>gender_f</th>\n",
       "      <th>gender_m</th>\n",
       "      <th>designation_CFO</th>\n",
       "      <th>designation_Soft. Engineer</th>\n",
       "      <th>designation_Soft.Analyst</th>\n",
       "      <th>designation_Soft.Engineer</th>\n",
       "      <th>designation_Sr. Soft. Engineer</th>\n",
       "      <th>designation_Tech. Architect</th>\n",
       "      <th>designation_Tech. Lead</th>\n",
       "    </tr>\n",
       "  </thead>\n",
       "  <tbody>\n",
       "    <tr>\n",
       "      <th>age</th>\n",
       "      <td>1.000000</td>\n",
       "      <td>0.543688</td>\n",
       "      <td>0.835793</td>\n",
       "      <td>0.014047</td>\n",
       "      <td>0.266892</td>\n",
       "      <td>-0.112376</td>\n",
       "      <td>-0.365220</td>\n",
       "      <td>-0.238798</td>\n",
       "      <td>-0.365220</td>\n",
       "      <td>-0.112376</td>\n",
       "      <td>0.077258</td>\n",
       "      <td>0.235428</td>\n",
       "      <td>-0.235428</td>\n",
       "      <td>0.266892</td>\n",
       "      <td>0.014047</td>\n",
       "      <td>0.077258</td>\n",
       "      <td>-0.365220</td>\n",
       "      <td>-0.265462</td>\n",
       "      <td>0.835793</td>\n",
       "      <td>-0.361029</td>\n",
       "    </tr>\n",
       "    <tr>\n",
       "      <th>salary</th>\n",
       "      <td>0.543688</td>\n",
       "      <td>1.000000</td>\n",
       "      <td>0.371324</td>\n",
       "      <td>-0.283954</td>\n",
       "      <td>0.764491</td>\n",
       "      <td>-0.218426</td>\n",
       "      <td>-0.283954</td>\n",
       "      <td>-0.218426</td>\n",
       "      <td>0.109213</td>\n",
       "      <td>0.109213</td>\n",
       "      <td>-0.349482</td>\n",
       "      <td>-0.013814</td>\n",
       "      <td>0.013814</td>\n",
       "      <td>0.764491</td>\n",
       "      <td>-0.283954</td>\n",
       "      <td>-0.349482</td>\n",
       "      <td>-0.283954</td>\n",
       "      <td>-0.330229</td>\n",
       "      <td>0.371324</td>\n",
       "      <td>0.165115</td>\n",
       "    </tr>\n",
       "    <tr>\n",
       "      <th>name_keerthana</th>\n",
       "      <td>0.835793</td>\n",
       "      <td>0.371324</td>\n",
       "      <td>1.000000</td>\n",
       "      <td>-0.125000</td>\n",
       "      <td>-0.125000</td>\n",
       "      <td>-0.125000</td>\n",
       "      <td>-0.125000</td>\n",
       "      <td>-0.125000</td>\n",
       "      <td>-0.125000</td>\n",
       "      <td>-0.125000</td>\n",
       "      <td>-0.125000</td>\n",
       "      <td>0.395285</td>\n",
       "      <td>-0.395285</td>\n",
       "      <td>-0.125000</td>\n",
       "      <td>-0.125000</td>\n",
       "      <td>-0.125000</td>\n",
       "      <td>-0.125000</td>\n",
       "      <td>-0.188982</td>\n",
       "      <td>1.000000</td>\n",
       "      <td>-0.188982</td>\n",
       "    </tr>\n",
       "    <tr>\n",
       "      <th>name_mohananya</th>\n",
       "      <td>0.014047</td>\n",
       "      <td>-0.283954</td>\n",
       "      <td>-0.125000</td>\n",
       "      <td>1.000000</td>\n",
       "      <td>-0.125000</td>\n",
       "      <td>-0.125000</td>\n",
       "      <td>-0.125000</td>\n",
       "      <td>-0.125000</td>\n",
       "      <td>-0.125000</td>\n",
       "      <td>-0.125000</td>\n",
       "      <td>-0.125000</td>\n",
       "      <td>0.395285</td>\n",
       "      <td>-0.395285</td>\n",
       "      <td>-0.125000</td>\n",
       "      <td>1.000000</td>\n",
       "      <td>-0.125000</td>\n",
       "      <td>-0.125000</td>\n",
       "      <td>-0.188982</td>\n",
       "      <td>-0.125000</td>\n",
       "      <td>-0.188982</td>\n",
       "    </tr>\n",
       "    <tr>\n",
       "      <th>name_pradeep</th>\n",
       "      <td>0.266892</td>\n",
       "      <td>0.764491</td>\n",
       "      <td>-0.125000</td>\n",
       "      <td>-0.125000</td>\n",
       "      <td>1.000000</td>\n",
       "      <td>-0.125000</td>\n",
       "      <td>-0.125000</td>\n",
       "      <td>-0.125000</td>\n",
       "      <td>-0.125000</td>\n",
       "      <td>-0.125000</td>\n",
       "      <td>-0.125000</td>\n",
       "      <td>-0.316228</td>\n",
       "      <td>0.316228</td>\n",
       "      <td>1.000000</td>\n",
       "      <td>-0.125000</td>\n",
       "      <td>-0.125000</td>\n",
       "      <td>-0.125000</td>\n",
       "      <td>-0.188982</td>\n",
       "      <td>-0.125000</td>\n",
       "      <td>-0.188982</td>\n",
       "    </tr>\n",
       "  </tbody>\n",
       "</table>\n",
       "</div>"
      ],
      "text/plain": [
       "                     age    salary  name_keerthana  name_mohananya  \\\n",
       "age             1.000000  0.543688        0.835793        0.014047   \n",
       "salary          0.543688  1.000000        0.371324       -0.283954   \n",
       "name_keerthana  0.835793  0.371324        1.000000       -0.125000   \n",
       "name_mohananya  0.014047 -0.283954       -0.125000        1.000000   \n",
       "name_pradeep    0.266892  0.764491       -0.125000       -0.125000   \n",
       "\n",
       "                name_pradeep  name_ragasudha  name_raja  name_rakesh  \\\n",
       "age                 0.266892       -0.112376  -0.365220    -0.238798   \n",
       "salary              0.764491       -0.218426  -0.283954    -0.218426   \n",
       "name_keerthana     -0.125000       -0.125000  -0.125000    -0.125000   \n",
       "name_mohananya     -0.125000       -0.125000  -0.125000    -0.125000   \n",
       "name_pradeep        1.000000       -0.125000  -0.125000    -0.125000   \n",
       "\n",
       "                name_rakshi  name_ranjith  name_virat  gender_f  gender_m  \\\n",
       "age               -0.365220     -0.112376    0.077258  0.235428 -0.235428   \n",
       "salary             0.109213      0.109213   -0.349482 -0.013814  0.013814   \n",
       "name_keerthana    -0.125000     -0.125000   -0.125000  0.395285 -0.395285   \n",
       "name_mohananya    -0.125000     -0.125000   -0.125000  0.395285 -0.395285   \n",
       "name_pradeep      -0.125000     -0.125000   -0.125000 -0.316228  0.316228   \n",
       "\n",
       "                designation_CFO  designation_Soft. Engineer  \\\n",
       "age                    0.266892                    0.014047   \n",
       "salary                 0.764491                   -0.283954   \n",
       "name_keerthana        -0.125000                   -0.125000   \n",
       "name_mohananya        -0.125000                    1.000000   \n",
       "name_pradeep           1.000000                   -0.125000   \n",
       "\n",
       "                designation_Soft.Analyst  designation_Soft.Engineer  \\\n",
       "age                             0.077258                  -0.365220   \n",
       "salary                         -0.349482                  -0.283954   \n",
       "name_keerthana                 -0.125000                  -0.125000   \n",
       "name_mohananya                 -0.125000                  -0.125000   \n",
       "name_pradeep                   -0.125000                  -0.125000   \n",
       "\n",
       "                designation_Sr. Soft. Engineer  designation_Tech. Architect  \\\n",
       "age                                  -0.265462                     0.835793   \n",
       "salary                               -0.330229                     0.371324   \n",
       "name_keerthana                       -0.188982                     1.000000   \n",
       "name_mohananya                       -0.188982                    -0.125000   \n",
       "name_pradeep                         -0.188982                    -0.125000   \n",
       "\n",
       "                designation_Tech. Lead  \n",
       "age                          -0.361029  \n",
       "salary                        0.165115  \n",
       "name_keerthana               -0.188982  \n",
       "name_mohananya               -0.188982  \n",
       "name_pradeep                 -0.188982  "
      ]
     },
     "execution_count": 113,
     "metadata": {},
     "output_type": "execute_result"
    }
   ],
   "source": [
    "a.head()"
   ]
  },
  {
   "cell_type": "code",
   "execution_count": 115,
   "metadata": {},
   "outputs": [
    {
     "name": "stdout",
     "output_type": "stream",
     "text": [
      "0.9\n"
     ]
    }
   ],
   "source": [
    "#Normalizing the data\n",
    "print(round(skew(np.log10(datafrm.age)),2))"
   ]
  },
  {
   "cell_type": "code",
   "execution_count": 116,
   "metadata": {},
   "outputs": [
    {
     "name": "stdout",
     "output_type": "stream",
     "text": [
      "0.36\n"
     ]
    }
   ],
   "source": [
    "print(round(skew(np.log10(datafrm.salary)),2))"
   ]
  },
  {
   "cell_type": "code",
   "execution_count": 120,
   "metadata": {},
   "outputs": [],
   "source": [
    "#Applying log transformation to the continuous column\n",
    "datafrm['age'] = np.log10(datafrm['age'])"
   ]
  },
  {
   "cell_type": "code",
   "execution_count": 121,
   "metadata": {},
   "outputs": [
    {
     "data": {
      "text/plain": [
       "0    1.397940\n",
       "1    1.462398\n",
       "3    1.544068\n",
       "4    1.505150\n",
       "5    1.397940\n",
       "6    1.431364\n",
       "7    1.462398\n",
       "8    1.491362\n",
       "9    1.643453\n",
       "Name: age, dtype: float64"
      ]
     },
     "execution_count": 121,
     "metadata": {},
     "output_type": "execute_result"
    }
   ],
   "source": [
    "datafrm['age']"
   ]
  },
  {
   "cell_type": "code",
   "execution_count": 122,
   "metadata": {},
   "outputs": [],
   "source": [
    "datafrm['salary'] = np.log10(datafrm['salary'])"
   ]
  },
  {
   "cell_type": "code",
   "execution_count": 123,
   "metadata": {},
   "outputs": [
    {
     "data": {
      "text/plain": [
       "0    4.301030\n",
       "1    4.698970\n",
       "3    5.000000\n",
       "4    4.176091\n",
       "5    4.698970\n",
       "6    4.397940\n",
       "7    4.397940\n",
       "8    4.301030\n",
       "9    4.845098\n",
       "Name: salary, dtype: float64"
      ]
     },
     "execution_count": 123,
     "metadata": {},
     "output_type": "execute_result"
    }
   ],
   "source": [
    "datafrm['salary']"
   ]
  },
  {
   "cell_type": "code",
   "execution_count": 125,
   "metadata": {},
   "outputs": [
    {
     "name": "stderr",
     "output_type": "stream",
     "text": [
      "C:\\Users\\Raja\\Anaconda3\\lib\\site-packages\\matplotlib\\axes\\_axes.py:6462: UserWarning: The 'normed' kwarg is deprecated, and has been replaced by the 'density' kwarg.\n",
      "  warnings.warn(\"The 'normed' kwarg is deprecated, and has been \"\n"
     ]
    },
    {
     "data": {
      "text/plain": [
       "<matplotlib.axes._subplots.AxesSubplot at 0x1da869707b8>"
      ]
     },
     "execution_count": 125,
     "metadata": {},
     "output_type": "execute_result"
    },
    {
     "data": {
      "image/png": "[encoded data removed]",
      "text/plain": [
       "<Figure size 432x288 with 1 Axes>"
      ]
     },
     "metadata": {},
     "output_type": "display_data"
    }
   ],
   "source": [
    "sns.distplot(datafrm['age'],kde=False)\n"
   ]
  },
  {
   "cell_type": "code",
   "execution_count": 127,
   "metadata": {},
   "outputs": [
    {
     "name": "stderr",
     "output_type": "stream",
     "text": [
      "C:\\Users\\Raja\\Anaconda3\\lib\\site-packages\\matplotlib\\axes\\_axes.py:6462: UserWarning: The 'normed' kwarg is deprecated, and has been replaced by the 'density' kwarg.\n",
      "  warnings.warn(\"The 'normed' kwarg is deprecated, and has been \"\n"
     ]
    },
    {
     "data": {
      "text/plain": [
       "<matplotlib.axes._subplots.AxesSubplot at 0x1da883a9ac8>"
      ]
     },
     "execution_count": 127,
     "metadata": {},
     "output_type": "execute_result"
    },
    {
     "data": {
      "image/png": "[encoded data removed]",
      "text/plain": [
       "<Figure size 432x288 with 1 Axes>"
      ]
     },
     "metadata": {},
     "output_type": "display_data"
    }
   ],
   "source": [
    "sns.distplot(datafrm['salary'],kde=False)\n"
   ]
  },
  {
   "cell_type": "code",
   "execution_count": null,
   "metadata": {},
   "outputs": [],
   "source": []
  }
 ],
 "metadata": {
  "kernelspec": {
   "display_name": "Python 3",
   "language": "python",
   "name": "python3"
  },
  "language_info": {
   "codemirror_mode": {
    "name": "ipython",
    "version": 3
   },
   "file_extension": ".py",
   "mimetype": "text/x-python",
   "name": "python",
   "nbconvert_exporter": "python",
   "pygments_lexer": "ipython3",
   "version": "3.6.5"
  }
 },
 "nbformat": 4,
 "nbformat_minor": 2
}
